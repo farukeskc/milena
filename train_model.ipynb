{
 "cells": [
  {
   "cell_type": "code",
   "execution_count": 1,
   "id": "2d9edd95",
   "metadata": {
    "colab": {
     "base_uri": "https://localhost:8080/"
    },
    "executionInfo": {
     "elapsed": 1102,
     "status": "ok",
     "timestamp": 1671048515611,
     "user": {
      "displayName": "Faruk Eskici",
      "userId": "02826507008588607569"
     },
     "user_tz": -180
    },
    "id": "2d9edd95",
    "outputId": "bbe4e620-c734-4cda-d76f-7a6cedcee6b7",
    "scrolled": true
   },
   "outputs": [
    {
     "name": "stderr",
     "output_type": "stream",
     "text": [
      "[nltk_data] Downloading package stopwords to\n",
      "[nltk_data]     C:\\Users\\faruk\\AppData\\Roaming\\nltk_data...\n",
      "[nltk_data]   Package stopwords is already up-to-date!\n"
     ]
    }
   ],
   "source": [
    "import pandas as pd\n",
    "import numpy as np\n",
    "import seaborn as sns\n",
    "import tensorflow as tf\n",
    "import matplotlib.pyplot as plt\n",
    "from tensorflow.keras.preprocessing.text import Tokenizer\n",
    "from tensorflow.keras.preprocessing.sequence import pad_sequences\n",
    "from tensorflow.keras.layers import Input, Dense, Embedding, Flatten, Dropout, LSTM\n",
    "from tensorflow.keras.callbacks import ReduceLROnPlateau, EarlyStopping\n",
    "from tensorflow.keras.models import Sequential\n",
    "from sklearn.model_selection import train_test_split\n",
    "import re\n",
    "import contractions\n",
    "\n",
    "import nltk\n",
    "nltk.download('stopwords')\n",
    "from nltk.corpus import stopwords\n",
    "from  nltk.stem import SnowballStemmer\n",
    "\n",
    "import gensim"
   ]
  },
  {
   "cell_type": "code",
   "execution_count": 2,
   "id": "f24cb522",
   "metadata": {
    "executionInfo": {
     "elapsed": 7,
     "status": "ok",
     "timestamp": 1671048515611,
     "user": {
      "displayName": "Faruk Eskici",
      "userId": "02826507008588607569"
     },
     "user_tz": -180
    },
    "id": "f24cb522"
   },
   "outputs": [],
   "source": [
    "TEXT_CLEANING_RE = \"@\\S+|https?:\\S+|http?:\\S|[^A-Za-z0-9]+\""
   ]
  },
  {
   "cell_type": "code",
   "execution_count": 3,
   "id": "74cec0de",
   "metadata": {
    "executionInfo": {
     "elapsed": 7,
     "status": "ok",
     "timestamp": 1671048515612,
     "user": {
      "displayName": "Faruk Eskici",
      "userId": "02826507008588607569"
     },
     "user_tz": -180
    },
    "id": "74cec0de"
   },
   "outputs": [],
   "source": [
    "stop_words = stopwords.words(\"english\")\n",
    "stemmer = SnowballStemmer(\"english\")\n",
    "\n",
    "def preprocess(text, stem=False):\n",
    "    # Remove link,user and special characters\n",
    "    text = re.sub(TEXT_CLEANING_RE, ' ', str(text).lower()).strip()\n",
    "    tokens = []\n",
    "    for token in text.split():\n",
    "        if token not in stop_words:\n",
    "            if stem:\n",
    "                tokens.append(stemmer.stem(token))\n",
    "            else:\n",
    "                tokens.append(token)\n",
    "    return \" \".join(tokens)"
   ]
  },
  {
   "cell_type": "code",
   "execution_count": 4,
   "id": "902ebc0a",
   "metadata": {
    "executionInfo": {
     "elapsed": 6,
     "status": "ok",
     "timestamp": 1671048515612,
     "user": {
      "displayName": "Faruk Eskici",
      "userId": "02826507008588607569"
     },
     "user_tz": -180
    },
    "id": "902ebc0a"
   },
   "outputs": [],
   "source": [
    "DATASETS_PATH = \"datasets/\"\n",
    "FILE_NAMES = [\"train.txt\", \"test.txt\", \"val.txt\"]"
   ]
  },
  {
   "cell_type": "code",
   "execution_count": 5,
   "id": "60d3ff01",
   "metadata": {
    "executionInfo": {
     "elapsed": 1772,
     "status": "ok",
     "timestamp": 1671048517379,
     "user": {
      "displayName": "Faruk Eskici",
      "userId": "02826507008588607569"
     },
     "user_tz": -180
    },
    "id": "60d3ff01"
   },
   "outputs": [],
   "source": [
    "data = pd.DataFrame()\n",
    "for file_name in FILE_NAMES:\n",
    "    temp_data = pd.read_csv(DATASETS_PATH+file_name, sep=\";\")\n",
    "    data = pd.concat([data, temp_data]).reset_index(drop=True)"
   ]
  },
  {
   "cell_type": "code",
   "execution_count": 6,
   "id": "JdO6ocLqQMYW",
   "metadata": {
    "colab": {
     "base_uri": "https://localhost:8080/",
     "height": 424
    },
    "executionInfo": {
     "elapsed": 7,
     "status": "ok",
     "timestamp": 1671048604217,
     "user": {
      "displayName": "Faruk Eskici",
      "userId": "02826507008588607569"
     },
     "user_tz": -180
    },
    "id": "JdO6ocLqQMYW",
    "outputId": "57882ddd-4278-4235-d640-986a60096902"
   },
   "outputs": [
    {
     "data": {
      "text/html": [
       "<div>\n",
       "<style scoped>\n",
       "    .dataframe tbody tr th:only-of-type {\n",
       "        vertical-align: middle;\n",
       "    }\n",
       "\n",
       "    .dataframe tbody tr th {\n",
       "        vertical-align: top;\n",
       "    }\n",
       "\n",
       "    .dataframe thead th {\n",
       "        text-align: right;\n",
       "    }\n",
       "</style>\n",
       "<table border=\"1\" class=\"dataframe\">\n",
       "  <thead>\n",
       "    <tr style=\"text-align: right;\">\n",
       "      <th></th>\n",
       "      <th>mail</th>\n",
       "      <th>emotion</th>\n",
       "    </tr>\n",
       "  </thead>\n",
       "  <tbody>\n",
       "    <tr>\n",
       "      <th>0</th>\n",
       "      <td>i didnt feel humiliated</td>\n",
       "      <td>sadness</td>\n",
       "    </tr>\n",
       "    <tr>\n",
       "      <th>1</th>\n",
       "      <td>i can go from feeling so hopeless to so damned...</td>\n",
       "      <td>sadness</td>\n",
       "    </tr>\n",
       "    <tr>\n",
       "      <th>2</th>\n",
       "      <td>im grabbing a minute to post i feel greedy wrong</td>\n",
       "      <td>anger</td>\n",
       "    </tr>\n",
       "    <tr>\n",
       "      <th>3</th>\n",
       "      <td>i am ever feeling nostalgic about the fireplac...</td>\n",
       "      <td>love</td>\n",
       "    </tr>\n",
       "    <tr>\n",
       "      <th>4</th>\n",
       "      <td>i am feeling grouchy</td>\n",
       "      <td>anger</td>\n",
       "    </tr>\n",
       "    <tr>\n",
       "      <th>...</th>\n",
       "      <td>...</td>\n",
       "      <td>...</td>\n",
       "    </tr>\n",
       "    <tr>\n",
       "      <th>19995</th>\n",
       "      <td>im having ssa examination tomorrow in the morn...</td>\n",
       "      <td>sadness</td>\n",
       "    </tr>\n",
       "    <tr>\n",
       "      <th>19996</th>\n",
       "      <td>i constantly worry about their fight against n...</td>\n",
       "      <td>joy</td>\n",
       "    </tr>\n",
       "    <tr>\n",
       "      <th>19997</th>\n",
       "      <td>i feel its important to share this info for th...</td>\n",
       "      <td>joy</td>\n",
       "    </tr>\n",
       "    <tr>\n",
       "      <th>19998</th>\n",
       "      <td>i truly feel that if you are passionate enough...</td>\n",
       "      <td>joy</td>\n",
       "    </tr>\n",
       "    <tr>\n",
       "      <th>19999</th>\n",
       "      <td>i feel like i just wanna buy any cute make up ...</td>\n",
       "      <td>joy</td>\n",
       "    </tr>\n",
       "  </tbody>\n",
       "</table>\n",
       "<p>20000 rows × 2 columns</p>\n",
       "</div>"
      ],
      "text/plain": [
       "                                                    mail  emotion\n",
       "0                                i didnt feel humiliated  sadness\n",
       "1      i can go from feeling so hopeless to so damned...  sadness\n",
       "2       im grabbing a minute to post i feel greedy wrong    anger\n",
       "3      i am ever feeling nostalgic about the fireplac...     love\n",
       "4                                   i am feeling grouchy    anger\n",
       "...                                                  ...      ...\n",
       "19995  im having ssa examination tomorrow in the morn...  sadness\n",
       "19996  i constantly worry about their fight against n...      joy\n",
       "19997  i feel its important to share this info for th...      joy\n",
       "19998  i truly feel that if you are passionate enough...      joy\n",
       "19999  i feel like i just wanna buy any cute make up ...      joy\n",
       "\n",
       "[20000 rows x 2 columns]"
      ]
     },
     "execution_count": 6,
     "metadata": {},
     "output_type": "execute_result"
    }
   ],
   "source": [
    "data"
   ]
  },
  {
   "cell_type": "code",
   "execution_count": 7,
   "id": "7CNGsMBtQ0p2",
   "metadata": {
    "executionInfo": {
     "elapsed": 816,
     "status": "ok",
     "timestamp": 1671048727546,
     "user": {
      "displayName": "Faruk Eskici",
      "userId": "02826507008588607569"
     },
     "user_tz": -180
    },
    "id": "7CNGsMBtQ0p2"
   },
   "outputs": [],
   "source": [
    "X = data['mail'].apply(preprocess)\n",
    "y = pd.get_dummies(data['emotion'])"
   ]
  },
  {
   "cell_type": "code",
   "execution_count": 8,
   "id": "a0a2137c",
   "metadata": {
    "executionInfo": {
     "elapsed": 279,
     "status": "ok",
     "timestamp": 1671048754997,
     "user": {
      "displayName": "Faruk Eskici",
      "userId": "02826507008588607569"
     },
     "user_tz": -180
    },
    "id": "a0a2137c"
   },
   "outputs": [],
   "source": [
    "documents = [_text.split() for _text in X]"
   ]
  },
  {
   "cell_type": "code",
   "execution_count": 9,
   "id": "ee234afc",
   "metadata": {
    "executionInfo": {
     "elapsed": 248,
     "status": "ok",
     "timestamp": 1671048767101,
     "user": {
      "displayName": "Faruk Eskici",
      "userId": "02826507008588607569"
     },
     "user_tz": -180
    },
    "id": "ee234afc"
   },
   "outputs": [],
   "source": [
    "w2v_model = gensim.models.word2vec.Word2Vec(vector_size=200,\n",
    "                                            window=7,\n",
    "                                            min_count=10,\n",
    "                                            workers=8)"
   ]
  },
  {
   "cell_type": "code",
   "execution_count": 10,
   "id": "5abb4a36",
   "metadata": {
    "executionInfo": {
     "elapsed": 4,
     "status": "ok",
     "timestamp": 1671048770744,
     "user": {
      "displayName": "Faruk Eskici",
      "userId": "02826507008588607569"
     },
     "user_tz": -180
    },
    "id": "5abb4a36"
   },
   "outputs": [],
   "source": [
    "w2v_model.build_vocab(documents)"
   ]
  },
  {
   "cell_type": "code",
   "execution_count": 11,
   "id": "85e372a5",
   "metadata": {
    "executionInfo": {
     "elapsed": 251,
     "status": "ok",
     "timestamp": 1671048773417,
     "user": {
      "displayName": "Faruk Eskici",
      "userId": "02826507008588607569"
     },
     "user_tz": -180
    },
    "id": "85e372a5"
   },
   "outputs": [],
   "source": [
    "vocab_size = len(w2v_model.wv)"
   ]
  },
  {
   "cell_type": "code",
   "execution_count": 12,
   "id": "e2453bf3",
   "metadata": {
    "colab": {
     "base_uri": "https://localhost:8080/"
    },
    "executionInfo": {
     "elapsed": 7521,
     "status": "ok",
     "timestamp": 1671048785057,
     "user": {
      "displayName": "Faruk Eskici",
      "userId": "02826507008588607569"
     },
     "user_tz": -180
    },
    "id": "e2453bf3",
    "outputId": "14ca53fe-2153-4a9e-eeb3-5d7f86eb5e58"
   },
   "outputs": [
    {
     "data": {
      "text/plain": [
       "(4072062, 5973024)"
      ]
     },
     "execution_count": 12,
     "metadata": {},
     "output_type": "execute_result"
    }
   ],
   "source": [
    "w2v_model.train(documents, total_examples=len(documents), epochs=32)"
   ]
  },
  {
   "cell_type": "code",
   "execution_count": 13,
   "id": "34c0a53d",
   "metadata": {
    "executionInfo": {
     "elapsed": 261,
     "status": "ok",
     "timestamp": 1671051710372,
     "user": {
      "displayName": "Faruk Eskici",
      "userId": "02826507008588607569"
     },
     "user_tz": -180
    },
    "id": "34c0a53d"
   },
   "outputs": [],
   "source": [
    "X_train, X_test, y_train, y_test = train_test_split(X, y, test_size=0.05, shuffle=True)"
   ]
  },
  {
   "cell_type": "code",
   "execution_count": 14,
   "id": "a3362173",
   "metadata": {
    "colab": {
     "base_uri": "https://localhost:8080/"
    },
    "executionInfo": {
     "elapsed": 498,
     "status": "ok",
     "timestamp": 1671051712562,
     "user": {
      "displayName": "Faruk Eskici",
      "userId": "02826507008588607569"
     },
     "user_tz": -180
    },
    "id": "a3362173",
    "outputId": "b7b5c7f0-508e-4eb0-88fd-36260d88a7bf"
   },
   "outputs": [
    {
     "name": "stdout",
     "output_type": "stream",
     "text": [
      "Total words 16493\n"
     ]
    }
   ],
   "source": [
    "tokenizer = Tokenizer()\n",
    "tokenizer.fit_on_texts(X_train)\n",
    "\n",
    "vocab_size = len(tokenizer.word_index) + 1\n",
    "print(\"Total words\", vocab_size)"
   ]
  },
  {
   "cell_type": "code",
   "execution_count": 15,
   "id": "1cce5cb2",
   "metadata": {
    "executionInfo": {
     "elapsed": 1072,
     "status": "ok",
     "timestamp": 1671048827900,
     "user": {
      "displayName": "Faruk Eskici",
      "userId": "02826507008588607569"
     },
     "user_tz": -180
    },
    "id": "1cce5cb2"
   },
   "outputs": [],
   "source": [
    "X_train = pad_sequences(tokenizer.texts_to_sequences(X_train), maxlen=200)\n",
    "X_test = pad_sequences(tokenizer.texts_to_sequences(X_test), maxlen=200)"
   ]
  },
  {
   "cell_type": "code",
   "execution_count": 16,
   "id": "f1f4a7fd",
   "metadata": {
    "colab": {
     "base_uri": "https://localhost:8080/"
    },
    "executionInfo": {
     "elapsed": 397,
     "status": "ok",
     "timestamp": 1671048829502,
     "user": {
      "displayName": "Faruk Eskici",
      "userId": "02826507008588607569"
     },
     "user_tz": -180
    },
    "id": "f1f4a7fd",
    "outputId": "4ddf3c6d-e443-48b9-bf9e-be3de554b62c",
    "scrolled": true
   },
   "outputs": [
    {
     "data": {
      "text/plain": [
       "((1000, 6), (1000, 200))"
      ]
     },
     "execution_count": 16,
     "metadata": {},
     "output_type": "execute_result"
    }
   ],
   "source": [
    "y_test.shape, X_test.shape"
   ]
  },
  {
   "cell_type": "markdown",
   "id": "be377068",
   "metadata": {
    "id": "be377068"
   },
   "source": [
    "# Training"
   ]
  },
  {
   "cell_type": "code",
   "execution_count": 17,
   "id": "39c45ccf",
   "metadata": {
    "colab": {
     "base_uri": "https://localhost:8080/"
    },
    "executionInfo": {
     "elapsed": 244,
     "status": "ok",
     "timestamp": 1671048839332,
     "user": {
      "displayName": "Faruk Eskici",
      "userId": "02826507008588607569"
     },
     "user_tz": -180
    },
    "id": "39c45ccf",
    "outputId": "bb46600a-5903-4110-c46a-0783556ebba6"
   },
   "outputs": [
    {
     "name": "stdout",
     "output_type": "stream",
     "text": [
      "(16493, 200)\n"
     ]
    }
   ],
   "source": [
    "embedding_matrix = np.zeros((vocab_size, 200))\n",
    "for word, i in tokenizer.word_index.items():\n",
    "    if word in w2v_model.wv:\n",
    "        embedding_matrix[i] = w2v_model.wv[word]\n",
    "print(embedding_matrix.shape)"
   ]
  },
  {
   "cell_type": "code",
   "execution_count": 18,
   "id": "2e7d5588",
   "metadata": {
    "executionInfo": {
     "elapsed": 3,
     "status": "ok",
     "timestamp": 1671048857627,
     "user": {
      "displayName": "Faruk Eskici",
      "userId": "02826507008588607569"
     },
     "user_tz": -180
    },
    "id": "2e7d5588"
   },
   "outputs": [],
   "source": [
    "embedding_layer = Embedding(vocab_size, 200, weights=[embedding_matrix], input_length=200, trainable=False)"
   ]
  },
  {
   "cell_type": "code",
   "execution_count": 19,
   "id": "e5ca8cf8",
   "metadata": {
    "colab": {
     "base_uri": "https://localhost:8080/"
    },
    "executionInfo": {
     "elapsed": 715,
     "status": "ok",
     "timestamp": 1671048901936,
     "user": {
      "displayName": "Faruk Eskici",
      "userId": "02826507008588607569"
     },
     "user_tz": -180
    },
    "id": "e5ca8cf8",
    "outputId": "5afb1e12-9da4-41c8-f799-4411a7bf29a6"
   },
   "outputs": [
    {
     "name": "stdout",
     "output_type": "stream",
     "text": [
      "Model: \"sequential\"\n",
      "_________________________________________________________________\n",
      " Layer (type)                Output Shape              Param #   \n",
      "=================================================================\n",
      " embedding (Embedding)       (None, 200, 200)          3298600   \n",
      "                                                                 \n",
      " dropout (Dropout)           (None, 200, 200)          0         \n",
      "                                                                 \n",
      " lstm (LSTM)                 (None, 100)               120400    \n",
      "                                                                 \n",
      " dense (Dense)               (None, 6)                 606       \n",
      "                                                                 \n",
      "=================================================================\n",
      "Total params: 3,419,606\n",
      "Trainable params: 121,006\n",
      "Non-trainable params: 3,298,600\n",
      "_________________________________________________________________\n"
     ]
    }
   ],
   "source": [
    "model = Sequential()\n",
    "model.add(embedding_layer)\n",
    "model.add(Dropout(0.5))\n",
    "model.add(LSTM(100, dropout=0.2, recurrent_dropout=0.2))\n",
    "model.add(Dense(6, activation='softmax'))\n",
    "\n",
    "model.summary()"
   ]
  },
  {
   "cell_type": "code",
   "execution_count": 20,
   "id": "04f9bb48",
   "metadata": {
    "executionInfo": {
     "elapsed": 3,
     "status": "ok",
     "timestamp": 1671048902547,
     "user": {
      "displayName": "Faruk Eskici",
      "userId": "02826507008588607569"
     },
     "user_tz": -180
    },
    "id": "04f9bb48"
   },
   "outputs": [],
   "source": [
    "callbacks = [ ReduceLROnPlateau(monitor='val_loss', patience=5, cooldown=0),\n",
    "              EarlyStopping(monitor='val_loss', min_delta=1e-4, patience=5)]"
   ]
  },
  {
   "cell_type": "code",
   "execution_count": 21,
   "id": "8ac9e9d5",
   "metadata": {
    "executionInfo": {
     "elapsed": 2,
     "status": "ok",
     "timestamp": 1671048904393,
     "user": {
      "displayName": "Faruk Eskici",
      "userId": "02826507008588607569"
     },
     "user_tz": -180
    },
    "id": "8ac9e9d5",
    "scrolled": true
   },
   "outputs": [],
   "source": [
    "model.compile(\n",
    "    optimizer=\"adam\", \n",
    "    loss=tf.keras.losses.CategoricalCrossentropy(),\n",
    "    metrics=[\n",
    "        \"accuracy\",\n",
    "    ],\n",
    ")"
   ]
  },
  {
   "cell_type": "code",
   "execution_count": 22,
   "id": "83fdb8e3",
   "metadata": {
    "colab": {
     "base_uri": "https://localhost:8080/"
    },
    "executionInfo": {
     "elapsed": 1206974,
     "status": "ok",
     "timestamp": 1671050116147,
     "user": {
      "displayName": "Faruk Eskici",
      "userId": "02826507008588607569"
     },
     "user_tz": -180
    },
    "id": "83fdb8e3",
    "outputId": "8155a4db-0177-45af-c4f4-fb5177211e2a"
   },
   "outputs": [
    {
     "name": "stdout",
     "output_type": "stream",
     "text": [
      "Epoch 1/1000\n",
      "18/18 [==============================] - 98s 5s/step - loss: 1.5859 - accuracy: 0.3789 - val_loss: 1.4611 - val_accuracy: 0.4674 - lr: 0.0010\n",
      "Epoch 2/1000\n",
      "18/18 [==============================] - 114s 6s/step - loss: 1.3964 - accuracy: 0.4807 - val_loss: 1.3393 - val_accuracy: 0.5032 - lr: 0.0010\n",
      "Epoch 3/1000\n",
      "18/18 [==============================] - 120s 7s/step - loss: 1.3024 - accuracy: 0.5101 - val_loss: 1.2513 - val_accuracy: 0.5232 - lr: 0.0010\n",
      "Epoch 4/1000\n",
      "18/18 [==============================] - 132s 7s/step - loss: 1.2441 - accuracy: 0.5309 - val_loss: 1.1733 - val_accuracy: 0.5579 - lr: 0.0010\n",
      "Epoch 5/1000\n",
      "18/18 [==============================] - 136s 8s/step - loss: 1.1879 - accuracy: 0.5540 - val_loss: 1.1087 - val_accuracy: 0.5768 - lr: 0.0010\n",
      "Epoch 6/1000\n",
      "18/18 [==============================] - 156s 9s/step - loss: 1.1359 - accuracy: 0.5711 - val_loss: 1.0501 - val_accuracy: 0.5989 - lr: 0.0010\n",
      "Epoch 7/1000\n",
      "18/18 [==============================] - 159s 9s/step - loss: 1.0786 - accuracy: 0.5951 - val_loss: 0.9908 - val_accuracy: 0.6263 - lr: 0.0010\n",
      "Epoch 8/1000\n",
      "18/18 [==============================] - 152s 8s/step - loss: 1.0183 - accuracy: 0.6172 - val_loss: 0.9007 - val_accuracy: 0.6600 - lr: 0.0010\n",
      "Epoch 9/1000\n",
      "18/18 [==============================] - 162s 9s/step - loss: 0.9678 - accuracy: 0.6375 - val_loss: 0.8500 - val_accuracy: 0.6779 - lr: 0.0010\n",
      "Epoch 10/1000\n",
      "18/18 [==============================] - 160s 9s/step - loss: 0.9153 - accuracy: 0.6573 - val_loss: 0.7671 - val_accuracy: 0.7326 - lr: 0.0010\n",
      "Epoch 11/1000\n",
      "18/18 [==============================] - 167s 9s/step - loss: 0.8709 - accuracy: 0.6748 - val_loss: 0.7236 - val_accuracy: 0.7411 - lr: 0.0010\n",
      "Epoch 12/1000\n",
      "18/18 [==============================] - 166s 9s/step - loss: 0.8266 - accuracy: 0.6839 - val_loss: 0.6836 - val_accuracy: 0.7400 - lr: 0.0010\n",
      "Epoch 13/1000\n",
      "18/18 [==============================] - 165s 9s/step - loss: 0.7956 - accuracy: 0.6999 - val_loss: 0.6395 - val_accuracy: 0.7653 - lr: 0.0010\n",
      "Epoch 14/1000\n",
      "18/18 [==============================] - 168s 9s/step - loss: 0.7600 - accuracy: 0.7123 - val_loss: 0.6103 - val_accuracy: 0.7726 - lr: 0.0010\n",
      "Epoch 15/1000\n",
      "18/18 [==============================] - 173s 10s/step - loss: 0.7403 - accuracy: 0.7216 - val_loss: 0.5720 - val_accuracy: 0.8021 - lr: 0.0010\n",
      "Epoch 16/1000\n",
      "18/18 [==============================] - 162s 9s/step - loss: 0.7182 - accuracy: 0.7294 - val_loss: 0.5531 - val_accuracy: 0.8126 - lr: 0.0010\n",
      "Epoch 17/1000\n",
      "18/18 [==============================] - 162s 9s/step - loss: 0.6991 - accuracy: 0.7331 - val_loss: 0.5234 - val_accuracy: 0.8221 - lr: 0.0010\n",
      "Epoch 18/1000\n",
      "18/18 [==============================] - 162s 9s/step - loss: 0.6688 - accuracy: 0.7442 - val_loss: 0.5015 - val_accuracy: 0.8242 - lr: 0.0010\n",
      "Epoch 19/1000\n",
      "18/18 [==============================] - 162s 9s/step - loss: 0.6487 - accuracy: 0.7561 - val_loss: 0.4781 - val_accuracy: 0.8379 - lr: 0.0010\n",
      "Epoch 20/1000\n",
      "18/18 [==============================] - 163s 9s/step - loss: 0.6364 - accuracy: 0.7601 - val_loss: 0.4670 - val_accuracy: 0.8368 - lr: 0.0010\n",
      "Epoch 21/1000\n",
      "18/18 [==============================] - 164s 9s/step - loss: 0.6221 - accuracy: 0.7632 - val_loss: 0.4463 - val_accuracy: 0.8442 - lr: 0.0010\n",
      "Epoch 22/1000\n",
      "18/18 [==============================] - 163s 9s/step - loss: 0.6061 - accuracy: 0.7699 - val_loss: 0.4426 - val_accuracy: 0.8411 - lr: 0.0010\n",
      "Epoch 23/1000\n",
      "18/18 [==============================] - 163s 9s/step - loss: 0.5808 - accuracy: 0.7792 - val_loss: 0.4217 - val_accuracy: 0.8526 - lr: 0.0010\n",
      "Epoch 24/1000\n",
      "18/18 [==============================] - 164s 9s/step - loss: 0.5743 - accuracy: 0.7837 - val_loss: 0.3936 - val_accuracy: 0.8621 - lr: 0.0010\n",
      "Epoch 25/1000\n",
      "18/18 [==============================] - 163s 9s/step - loss: 0.5514 - accuracy: 0.7913 - val_loss: 0.3856 - val_accuracy: 0.8653 - lr: 0.0010\n",
      "Epoch 26/1000\n",
      "18/18 [==============================] - 164s 9s/step - loss: 0.5354 - accuracy: 0.7999 - val_loss: 0.3718 - val_accuracy: 0.8663 - lr: 0.0010\n",
      "Epoch 27/1000\n",
      "18/18 [==============================] - 164s 9s/step - loss: 0.5306 - accuracy: 0.8005 - val_loss: 0.3649 - val_accuracy: 0.8653 - lr: 0.0010\n",
      "Epoch 28/1000\n",
      "18/18 [==============================] - 164s 9s/step - loss: 0.5126 - accuracy: 0.8080 - val_loss: 0.3395 - val_accuracy: 0.8758 - lr: 0.0010\n",
      "Epoch 29/1000\n",
      "18/18 [==============================] - 165s 9s/step - loss: 0.4999 - accuracy: 0.8128 - val_loss: 0.3320 - val_accuracy: 0.8811 - lr: 0.0010\n",
      "Epoch 30/1000\n",
      "18/18 [==============================] - 166s 9s/step - loss: 0.4848 - accuracy: 0.8222 - val_loss: 0.3205 - val_accuracy: 0.8842 - lr: 0.0010\n",
      "Epoch 31/1000\n",
      "18/18 [==============================] - 165s 9s/step - loss: 0.4791 - accuracy: 0.8203 - val_loss: 0.3139 - val_accuracy: 0.8842 - lr: 0.0010\n",
      "Epoch 32/1000\n",
      "18/18 [==============================] - 166s 9s/step - loss: 0.4589 - accuracy: 0.8305 - val_loss: 0.3017 - val_accuracy: 0.8926 - lr: 0.0010\n",
      "Epoch 33/1000\n",
      "18/18 [==============================] - 165s 9s/step - loss: 0.4540 - accuracy: 0.8314 - val_loss: 0.2973 - val_accuracy: 0.8874 - lr: 0.0010\n",
      "Epoch 34/1000\n",
      "18/18 [==============================] - 165s 9s/step - loss: 0.4457 - accuracy: 0.8362 - val_loss: 0.2872 - val_accuracy: 0.8947 - lr: 0.0010\n",
      "Epoch 35/1000\n",
      "18/18 [==============================] - 165s 9s/step - loss: 0.4339 - accuracy: 0.8392 - val_loss: 0.2802 - val_accuracy: 0.8968 - lr: 0.0010\n",
      "Epoch 36/1000\n",
      "18/18 [==============================] - 176s 10s/step - loss: 0.4296 - accuracy: 0.8392 - val_loss: 0.2703 - val_accuracy: 0.8947 - lr: 0.0010\n",
      "Epoch 37/1000\n",
      "18/18 [==============================] - 165s 9s/step - loss: 0.4185 - accuracy: 0.8457 - val_loss: 0.2677 - val_accuracy: 0.9011 - lr: 0.0010\n",
      "Epoch 38/1000\n",
      "18/18 [==============================] - 165s 9s/step - loss: 0.4172 - accuracy: 0.8459 - val_loss: 0.2616 - val_accuracy: 0.8905 - lr: 0.0010\n",
      "Epoch 39/1000\n",
      "18/18 [==============================] - 165s 9s/step - loss: 0.4091 - accuracy: 0.8478 - val_loss: 0.2633 - val_accuracy: 0.9000 - lr: 0.0010\n",
      "Epoch 40/1000\n",
      "18/18 [==============================] - 164s 9s/step - loss: 0.3979 - accuracy: 0.8530 - val_loss: 0.2540 - val_accuracy: 0.8947 - lr: 0.0010\n",
      "Epoch 41/1000\n",
      "18/18 [==============================] - 164s 9s/step - loss: 0.3859 - accuracy: 0.8582 - val_loss: 0.2452 - val_accuracy: 0.9021 - lr: 0.0010\n",
      "Epoch 42/1000\n",
      "18/18 [==============================] - 164s 9s/step - loss: 0.3758 - accuracy: 0.8619 - val_loss: 0.2404 - val_accuracy: 0.9032 - lr: 0.0010\n",
      "Epoch 43/1000\n",
      "18/18 [==============================] - 164s 9s/step - loss: 0.3738 - accuracy: 0.8637 - val_loss: 0.2414 - val_accuracy: 0.9000 - lr: 0.0010\n",
      "Epoch 44/1000\n",
      "18/18 [==============================] - 164s 9s/step - loss: 0.3645 - accuracy: 0.8645 - val_loss: 0.2330 - val_accuracy: 0.9053 - lr: 0.0010\n",
      "Epoch 45/1000\n",
      "18/18 [==============================] - 164s 9s/step - loss: 0.3659 - accuracy: 0.8665 - val_loss: 0.2250 - val_accuracy: 0.9105 - lr: 0.0010\n",
      "Epoch 46/1000\n",
      "18/18 [==============================] - 164s 9s/step - loss: 0.3559 - accuracy: 0.8684 - val_loss: 0.2213 - val_accuracy: 0.9084 - lr: 0.0010\n",
      "Epoch 47/1000\n",
      "18/18 [==============================] - 163s 9s/step - loss: 0.3506 - accuracy: 0.8712 - val_loss: 0.2191 - val_accuracy: 0.9116 - lr: 0.0010\n",
      "Epoch 48/1000\n",
      "18/18 [==============================] - 164s 9s/step - loss: 0.3471 - accuracy: 0.8724 - val_loss: 0.2188 - val_accuracy: 0.9126 - lr: 0.0010\n",
      "Epoch 49/1000\n",
      "18/18 [==============================] - 164s 9s/step - loss: 0.3468 - accuracy: 0.8735 - val_loss: 0.2191 - val_accuracy: 0.9105 - lr: 0.0010\n",
      "Epoch 50/1000\n",
      "18/18 [==============================] - 165s 9s/step - loss: 0.3497 - accuracy: 0.8729 - val_loss: 0.2133 - val_accuracy: 0.9116 - lr: 0.0010\n",
      "Epoch 51/1000\n",
      "18/18 [==============================] - 172s 10s/step - loss: 0.3377 - accuracy: 0.8718 - val_loss: 0.2098 - val_accuracy: 0.9126 - lr: 0.0010\n",
      "Epoch 52/1000\n",
      "18/18 [==============================] - 221s 12s/step - loss: 0.3311 - accuracy: 0.8757 - val_loss: 0.2040 - val_accuracy: 0.9116 - lr: 0.0010\n",
      "Epoch 53/1000\n"
     ]
    },
    {
     "name": "stdout",
     "output_type": "stream",
     "text": [
      "18/18 [==============================] - 238s 13s/step - loss: 0.3232 - accuracy: 0.8802 - val_loss: 0.2027 - val_accuracy: 0.9137 - lr: 0.0010\n",
      "Epoch 54/1000\n",
      "18/18 [==============================] - 240s 13s/step - loss: 0.3196 - accuracy: 0.8820 - val_loss: 0.2023 - val_accuracy: 0.9158 - lr: 0.0010\n",
      "Epoch 55/1000\n",
      "18/18 [==============================] - 233s 13s/step - loss: 0.3078 - accuracy: 0.8872 - val_loss: 0.2042 - val_accuracy: 0.9137 - lr: 0.0010\n",
      "Epoch 56/1000\n",
      "18/18 [==============================] - 235s 13s/step - loss: 0.3200 - accuracy: 0.8816 - val_loss: 0.1980 - val_accuracy: 0.9147 - lr: 0.0010\n",
      "Epoch 57/1000\n",
      "18/18 [==============================] - 241s 13s/step - loss: 0.3120 - accuracy: 0.8857 - val_loss: 0.2003 - val_accuracy: 0.9179 - lr: 0.0010\n",
      "Epoch 58/1000\n",
      "18/18 [==============================] - 242s 13s/step - loss: 0.3118 - accuracy: 0.8857 - val_loss: 0.1949 - val_accuracy: 0.9137 - lr: 0.0010\n",
      "Epoch 59/1000\n",
      "18/18 [==============================] - 243s 14s/step - loss: 0.2983 - accuracy: 0.8910 - val_loss: 0.1927 - val_accuracy: 0.9179 - lr: 0.0010\n",
      "Epoch 60/1000\n",
      "18/18 [==============================] - 175s 10s/step - loss: 0.2996 - accuracy: 0.8888 - val_loss: 0.1943 - val_accuracy: 0.9211 - lr: 0.0010\n",
      "Epoch 61/1000\n",
      "18/18 [==============================] - 173s 10s/step - loss: 0.2910 - accuracy: 0.8906 - val_loss: 0.1912 - val_accuracy: 0.9189 - lr: 0.0010\n",
      "Epoch 62/1000\n",
      "18/18 [==============================] - 175s 10s/step - loss: 0.2868 - accuracy: 0.8921 - val_loss: 0.1892 - val_accuracy: 0.9242 - lr: 0.0010\n",
      "Epoch 63/1000\n",
      "18/18 [==============================] - 175s 10s/step - loss: 0.2896 - accuracy: 0.8946 - val_loss: 0.1929 - val_accuracy: 0.9179 - lr: 0.0010\n",
      "Epoch 64/1000\n",
      "18/18 [==============================] - 175s 10s/step - loss: 0.2888 - accuracy: 0.8932 - val_loss: 0.1899 - val_accuracy: 0.9147 - lr: 0.0010\n",
      "Epoch 65/1000\n",
      "18/18 [==============================] - 176s 10s/step - loss: 0.2864 - accuracy: 0.8916 - val_loss: 0.1868 - val_accuracy: 0.9158 - lr: 0.0010\n",
      "Epoch 66/1000\n",
      "18/18 [==============================] - 176s 10s/step - loss: 0.2795 - accuracy: 0.8949 - val_loss: 0.1854 - val_accuracy: 0.9168 - lr: 0.0010\n",
      "Epoch 67/1000\n",
      "18/18 [==============================] - 175s 10s/step - loss: 0.2745 - accuracy: 0.8983 - val_loss: 0.1832 - val_accuracy: 0.9158 - lr: 0.0010\n",
      "Epoch 68/1000\n",
      "18/18 [==============================] - 176s 10s/step - loss: 0.2773 - accuracy: 0.8968 - val_loss: 0.1797 - val_accuracy: 0.9221 - lr: 0.0010\n",
      "Epoch 69/1000\n",
      "18/18 [==============================] - 172s 10s/step - loss: 0.2729 - accuracy: 0.9002 - val_loss: 0.1798 - val_accuracy: 0.9242 - lr: 0.0010\n",
      "Epoch 70/1000\n",
      "18/18 [==============================] - 173s 10s/step - loss: 0.2666 - accuracy: 0.8993 - val_loss: 0.1796 - val_accuracy: 0.9284 - lr: 0.0010\n",
      "Epoch 71/1000\n",
      "18/18 [==============================] - 175s 10s/step - loss: 0.2649 - accuracy: 0.9005 - val_loss: 0.1780 - val_accuracy: 0.9158 - lr: 0.0010\n",
      "Epoch 72/1000\n",
      "18/18 [==============================] - 174s 10s/step - loss: 0.2694 - accuracy: 0.9026 - val_loss: 0.1766 - val_accuracy: 0.9232 - lr: 0.0010\n",
      "Epoch 73/1000\n",
      "18/18 [==============================] - 171s 10s/step - loss: 0.2612 - accuracy: 0.9035 - val_loss: 0.1776 - val_accuracy: 0.9232 - lr: 0.0010\n",
      "Epoch 74/1000\n",
      "18/18 [==============================] - 177s 10s/step - loss: 0.2645 - accuracy: 0.9017 - val_loss: 0.1756 - val_accuracy: 0.9242 - lr: 0.0010\n",
      "Epoch 75/1000\n",
      "18/18 [==============================] - 178s 10s/step - loss: 0.2602 - accuracy: 0.9035 - val_loss: 0.1746 - val_accuracy: 0.9211 - lr: 0.0010\n",
      "Epoch 76/1000\n",
      "18/18 [==============================] - 177s 10s/step - loss: 0.2561 - accuracy: 0.9042 - val_loss: 0.1729 - val_accuracy: 0.9189 - lr: 0.0010\n",
      "Epoch 77/1000\n",
      "18/18 [==============================] - 176s 10s/step - loss: 0.2541 - accuracy: 0.9040 - val_loss: 0.1736 - val_accuracy: 0.9274 - lr: 0.0010\n",
      "Epoch 78/1000\n",
      "18/18 [==============================] - 175s 10s/step - loss: 0.2514 - accuracy: 0.9055 - val_loss: 0.1731 - val_accuracy: 0.9274 - lr: 0.0010\n",
      "Epoch 79/1000\n",
      "18/18 [==============================] - 175s 10s/step - loss: 0.2548 - accuracy: 0.9064 - val_loss: 0.1714 - val_accuracy: 0.9274 - lr: 0.0010\n",
      "Epoch 80/1000\n",
      "18/18 [==============================] - 175s 10s/step - loss: 0.2466 - accuracy: 0.9066 - val_loss: 0.1699 - val_accuracy: 0.9232 - lr: 0.0010\n",
      "Epoch 81/1000\n",
      "18/18 [==============================] - 175s 10s/step - loss: 0.2451 - accuracy: 0.9091 - val_loss: 0.1717 - val_accuracy: 0.9253 - lr: 0.0010\n",
      "Epoch 82/1000\n",
      "18/18 [==============================] - 174s 10s/step - loss: 0.2482 - accuracy: 0.9094 - val_loss: 0.1730 - val_accuracy: 0.9263 - lr: 0.0010\n",
      "Epoch 83/1000\n",
      "18/18 [==============================] - 177s 10s/step - loss: 0.2497 - accuracy: 0.9060 - val_loss: 0.1696 - val_accuracy: 0.9221 - lr: 0.0010\n",
      "Epoch 84/1000\n",
      "18/18 [==============================] - 170s 9s/step - loss: 0.2390 - accuracy: 0.9107 - val_loss: 0.1656 - val_accuracy: 0.9263 - lr: 0.0010\n",
      "Epoch 85/1000\n",
      "18/18 [==============================] - 166s 9s/step - loss: 0.2421 - accuracy: 0.9102 - val_loss: 0.1646 - val_accuracy: 0.9221 - lr: 0.0010\n",
      "Epoch 86/1000\n",
      "18/18 [==============================] - 166s 9s/step - loss: 0.2392 - accuracy: 0.9111 - val_loss: 0.1675 - val_accuracy: 0.9189 - lr: 0.0010\n",
      "Epoch 87/1000\n",
      "18/18 [==============================] - 165s 9s/step - loss: 0.2353 - accuracy: 0.9131 - val_loss: 0.1641 - val_accuracy: 0.9242 - lr: 0.0010\n",
      "Epoch 88/1000\n",
      "18/18 [==============================] - 165s 9s/step - loss: 0.2325 - accuracy: 0.9145 - val_loss: 0.1685 - val_accuracy: 0.9221 - lr: 0.0010\n",
      "Epoch 89/1000\n",
      "18/18 [==============================] - 165s 9s/step - loss: 0.2323 - accuracy: 0.9138 - val_loss: 0.1629 - val_accuracy: 0.9253 - lr: 0.0010\n",
      "Epoch 90/1000\n",
      "18/18 [==============================] - 164s 9s/step - loss: 0.2312 - accuracy: 0.9135 - val_loss: 0.1622 - val_accuracy: 0.9263 - lr: 0.0010\n",
      "Epoch 91/1000\n",
      "18/18 [==============================] - 164s 9s/step - loss: 0.2376 - accuracy: 0.9101 - val_loss: 0.1634 - val_accuracy: 0.9274 - lr: 0.0010\n",
      "Epoch 92/1000\n",
      "18/18 [==============================] - 165s 9s/step - loss: 0.2307 - accuracy: 0.9136 - val_loss: 0.1662 - val_accuracy: 0.9211 - lr: 0.0010\n",
      "Epoch 93/1000\n",
      "18/18 [==============================] - 165s 9s/step - loss: 0.2273 - accuracy: 0.9147 - val_loss: 0.1663 - val_accuracy: 0.9253 - lr: 0.0010\n",
      "Epoch 94/1000\n",
      "18/18 [==============================] - 165s 9s/step - loss: 0.2233 - accuracy: 0.9156 - val_loss: 0.1628 - val_accuracy: 0.9221 - lr: 0.0010\n",
      "Epoch 95/1000\n",
      "18/18 [==============================] - 165s 9s/step - loss: 0.2236 - accuracy: 0.9182 - val_loss: 0.1651 - val_accuracy: 0.9232 - lr: 0.0010\n"
     ]
    }
   ],
   "source": [
    "history = model.fit(\n",
    "    X_train,\n",
    "    y_train,\n",
    "    batch_size=1024,\n",
    "    epochs=1000,\n",
    "    verbose=1,\n",
    "    validation_split=0.05,\n",
    "    callbacks=callbacks\n",
    ")"
   ]
  },
  {
   "cell_type": "code",
   "execution_count": 38,
   "id": "2b6f61d1",
   "metadata": {},
   "outputs": [
    {
     "data": {
      "text/plain": [
       "<matplotlib.legend.Legend at 0x1f2bd17ff70>"
      ]
     },
     "execution_count": 38,
     "metadata": {},
     "output_type": "execute_result"
    },
    {
     "data": {
      "image/png": "[encoded data removed]",
      "text/plain": [
       "<Figure size 640x480 with 1 Axes>"
      ]
     },
     "metadata": {},
     "output_type": "display_data"
    }
   ],
   "source": [
    "a = plt.plot(history.history['val_loss'], label=\"Validation Loss\")\n",
    "b = plt.plot(history.history['loss'], label=\"Loss\")\n",
    "plt.legend()"
   ]
  },
  {
   "cell_type": "markdown",
   "id": "dd38da49",
   "metadata": {
    "id": "dd38da49"
   },
   "source": [
    "# Results"
   ]
  },
  {
   "cell_type": "code",
   "execution_count": 23,
   "id": "63f3f8e7",
   "metadata": {},
   "outputs": [
    {
     "name": "stdout",
     "output_type": "stream",
     "text": [
      "32/32 [==============================] - 3s 94ms/step - loss: 0.1533 - accuracy: 0.9330\n"
     ]
    },
    {
     "data": {
      "text/plain": [
       "[0.15326252579689026, 0.9330000281333923]"
      ]
     },
     "execution_count": 23,
     "metadata": {},
     "output_type": "execute_result"
    }
   ],
   "source": [
    "model.evaluate(X_test, y_test)"
   ]
  },
  {
   "cell_type": "code",
   "execution_count": 24,
   "id": "f560ae26",
   "metadata": {
    "colab": {
     "base_uri": "https://localhost:8080/"
    },
    "executionInfo": {
     "elapsed": 44587,
     "status": "ok",
     "timestamp": 1671050195016,
     "user": {
      "displayName": "Faruk Eskici",
      "userId": "02826507008588607569"
     },
     "user_tz": -180
    },
    "id": "f560ae26",
    "outputId": "ce796e9a-b87e-4e2d-dbb1-71ce8fa462a7"
   },
   "outputs": [
    {
     "name": "stdout",
     "output_type": "stream",
     "text": [
      "Test loss: 0.15326252579689026\n",
      "Test Accuracy: 0.9330000281333923\n"
     ]
    }
   ],
   "source": [
    "result = model.evaluate(X_test, y_test, verbose=0)\n",
    "\n",
    "print(\"Test loss: \"+ str(result[0]))\n",
    "print(\"Test Accuracy: \" + str(result[1]))"
   ]
  },
  {
   "cell_type": "code",
   "execution_count": 25,
   "id": "OQyydjrhdaZJ",
   "metadata": {
    "colab": {
     "base_uri": "https://localhost:8080/"
    },
    "executionInfo": {
     "elapsed": 797,
     "status": "ok",
     "timestamp": 1671050206386,
     "user": {
      "displayName": "Faruk Eskici",
      "userId": "02826507008588607569"
     },
     "user_tz": -180
    },
    "id": "OQyydjrhdaZJ",
    "outputId": "1129dda5-fdc1-4437-c624-0eedfc338a2f"
   },
   "outputs": [
    {
     "data": {
      "text/plain": [
       "anger       0.134842\n",
       "fear        0.119211\n",
       "joy         0.338263\n",
       "love        0.081947\n",
       "sadness     0.289789\n",
       "surprise    0.035947\n",
       "dtype: float64"
      ]
     },
     "execution_count": 25,
     "metadata": {},
     "output_type": "execute_result"
    }
   ],
   "source": [
    "y_train.sum()/len(y_train)"
   ]
  },
  {
   "cell_type": "code",
   "execution_count": 26,
   "id": "8f320c75",
   "metadata": {
    "executionInfo": {
     "elapsed": 510,
     "status": "ok",
     "timestamp": 1671050219640,
     "user": {
      "displayName": "Faruk Eskici",
      "userId": "02826507008588607569"
     },
     "user_tz": -180
    },
    "id": "8f320c75"
   },
   "outputs": [],
   "source": [
    "model.save(\"models/model(0_93).h5\")"
   ]
  },
  {
   "cell_type": "code",
   "execution_count": 27,
   "id": "AB_6elHLcDYe",
   "metadata": {
    "executionInfo": {
     "elapsed": 430,
     "status": "ok",
     "timestamp": 1671051762416,
     "user": {
      "displayName": "Faruk Eskici",
      "userId": "02826507008588607569"
     },
     "user_tz": -180
    },
    "id": "AB_6elHLcDYe"
   },
   "outputs": [],
   "source": [
    "import pickle\n",
    "\n",
    "# saving\n",
    "with open('tokenizer.pickle', 'wb') as handle:\n",
    "    pickle.dump(tokenizer, handle, protocol=pickle.HIGHEST_PROTOCOL)"
   ]
  }
 ],
 "metadata": {
  "accelerator": "GPU",
  "colab": {
   "provenance": []
  },
  "gpuClass": "standard",
  "kernelspec": {
   "display_name": "milena_env_j",
   "language": "python",
   "name": "milena_env_j"
  },
  "language_info": {
   "codemirror_mode": {
    "name": "ipython",
    "version": 3
   },
   "file_extension": ".py",
   "mimetype": "text/x-python",
   "name": "python",
   "nbconvert_exporter": "python",
   "pygments_lexer": "ipython3",
   "version": "3.10.7"
  }
 },
 "nbformat": 4,
 "nbformat_minor": 5
}
