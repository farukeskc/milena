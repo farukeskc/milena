{
 "cells": [
  {
   "cell_type": "code",
   "execution_count": 11,
   "id": "85b9d242",
   "metadata": {},
   "outputs": [],
   "source": [
    "import numpy as np\n",
    "import pandas as pd\n",
    "import tensorflow as tf\n",
    "from tensorflow.keras import models\n",
    "import pickle\n",
    "from nltk.corpus import stopwords\n",
    "from  nltk.stem import SnowballStemmer\n",
    "from tensorflow.keras.preprocessing.sequence import pad_sequences\n",
    "import re\n",
    "\n",
    "import gensim"
   ]
  },
  {
   "cell_type": "code",
   "execution_count": 2,
   "id": "cdfc40b5",
   "metadata": {},
   "outputs": [],
   "source": [
    "model = models.load_model(\"models/model(0_93).h5\")"
   ]
  },
  {
   "cell_type": "code",
   "execution_count": 15,
   "id": "85a92c0a",
   "metadata": {},
   "outputs": [],
   "source": [
    "labels = pd.read_csv(\"labels.txt\", sep=\",\").columns"
   ]
  },
  {
   "cell_type": "code",
   "execution_count": 3,
   "id": "11d2bab4",
   "metadata": {},
   "outputs": [],
   "source": [
    "with open('tokenizer.pickle', 'rb') as handle:\n",
    "    tokenizer = pickle.load(handle)"
   ]
  },
  {
   "cell_type": "code",
   "execution_count": 4,
   "id": "2fe4e0c2",
   "metadata": {},
   "outputs": [],
   "source": [
    "stop_words = stopwords.words(\"english\")\n",
    "stemmer = SnowballStemmer(\"english\")\n",
    "\n",
    "TEXT_CLEANING_RE = \"@\\S+|https?:\\S+|http?:\\S|[^A-Za-z0-9]+\"\n",
    "\n",
    "def preprocess(text, stem=False):\n",
    "    # Remove link,user and special characters\n",
    "    text = re.sub(TEXT_CLEANING_RE, ' ', str(text).lower()).strip()\n",
    "    tokens = []\n",
    "    for token in text.split():\n",
    "        if token not in stop_words:\n",
    "            if stem:\n",
    "                tokens.append(stemmer.stem(token))\n",
    "            else:\n",
    "                tokens.append(token)\n",
    "    return \" \".join(tokens)"
   ]
  },
  {
   "cell_type": "code",
   "execution_count": 48,
   "id": "54635643",
   "metadata": {},
   "outputs": [],
   "source": [
    "test = np.array(['i was feeling a little sentimental today'])"
   ]
  },
  {
   "cell_type": "code",
   "execution_count": 49,
   "id": "86643ac8",
   "metadata": {},
   "outputs": [],
   "source": [
    "text = preprocess(test)"
   ]
  },
  {
   "cell_type": "code",
   "execution_count": 50,
   "id": "fc3d4f94",
   "metadata": {},
   "outputs": [],
   "source": [
    "text = text.split()"
   ]
  },
  {
   "cell_type": "code",
   "execution_count": 51,
   "id": "2f74a0b0",
   "metadata": {},
   "outputs": [
    {
     "name": "stdout",
     "output_type": "stream",
     "text": [
      "Total words 16493\n"
     ]
    }
   ],
   "source": [
    "vocab_size = len(tokenizer.word_index) + 1\n",
    "print(\"Total words\", vocab_size)"
   ]
  },
  {
   "cell_type": "code",
   "execution_count": 52,
   "id": "6e8bfff8",
   "metadata": {},
   "outputs": [],
   "source": [
    "text = pad_sequences(tokenizer.texts_to_sequences(test), maxlen=200)"
   ]
  },
  {
   "cell_type": "code",
   "execution_count": 53,
   "id": "55016882",
   "metadata": {},
   "outputs": [
    {
     "name": "stdout",
     "output_type": "stream",
     "text": [
      "1/1 [==============================] - 0s 25ms/step\n"
     ]
    }
   ],
   "source": [
    "prediction = model.predict(text).argmax()"
   ]
  },
  {
   "cell_type": "code",
   "execution_count": 54,
   "id": "0bb09681",
   "metadata": {},
   "outputs": [
    {
     "data": {
      "text/plain": [
       "'sadness'"
      ]
     },
     "execution_count": 54,
     "metadata": {},
     "output_type": "execute_result"
    }
   ],
   "source": [
    "labels[prediction]"
   ]
  }
 ],
 "metadata": {
  "kernelspec": {
   "display_name": "milena_env_j",
   "language": "python",
   "name": "milena_env_j"
  },
  "language_info": {
   "codemirror_mode": {
    "name": "ipython",
    "version": 3
   },
   "file_extension": ".py",
   "mimetype": "text/x-python",
   "name": "python",
   "nbconvert_exporter": "python",
   "pygments_lexer": "ipython3",
   "version": "3.10.7"
  }
 },
 "nbformat": 4,
 "nbformat_minor": 5
}
